{
  "nbformat": 4,
  "nbformat_minor": 0,
  "metadata": {
    "colab": {
      "provenance": []
    },
    "kernelspec": {
      "name": "python3",
      "display_name": "Python 3"
    },
    "language_info": {
      "name": "python"
    }
  },
  "cells": [
    {
      "cell_type": "code",
      "execution_count": 2,
      "metadata": {
        "id": "irrlU7ARQa0I"
      },
      "outputs": [],
      "source": [
        "import pandas as pd\n",
        "\n",
        "# Load data\n",
        "data = pd.read_csv('/content/Movie_classification - Movie_classification.csv')"
      ]
    },
    {
      "cell_type": "code",
      "source": [
        "# Cek nilai duplikat\n",
        "duplicates = data.duplicated().sum()\n",
        "print(f'Jumlah duplikat: {duplicates}')"
      ],
      "metadata": {
        "colab": {
          "base_uri": "https://localhost:8080/"
        },
        "id": "5f6OS52OSoDe",
        "outputId": "77742b8d-048b-4cd1-e84a-7fbc7fafbfe4"
      },
      "execution_count": 3,
      "outputs": [
        {
          "output_type": "stream",
          "name": "stdout",
          "text": [
            "Jumlah duplikat: 0\n"
          ]
        }
      ]
    },
    {
      "cell_type": "code",
      "source": [
        "# Menemukan null values dan presentase\n",
        "null_counts = data.isnull().sum()\n",
        "null_percentage = (null_counts / len(data)) * 100\n",
        "null_info = pd.DataFrame({'Null Count': null_counts, 'Null Percentage': null_percentage})\n",
        "print(null_info)"
      ],
      "metadata": {
        "colab": {
          "base_uri": "https://localhost:8080/"
        },
        "id": "5QcEKKhlSsja",
        "outputId": "7222965c-a898-4a11-af45-a35060e38bd2"
      },
      "execution_count": 4,
      "outputs": [
        {
          "output_type": "stream",
          "name": "stdout",
          "text": [
            "                     Null Count  Null Percentage\n",
            "Marketing expense             0         0.000000\n",
            "Production expense            0         0.000000\n",
            "Multiplex coverage            0         0.000000\n",
            "Budget                        0         0.000000\n",
            "Movie_length                  0         0.000000\n",
            "Lead_ Actor_Rating            0         0.000000\n",
            "Lead_Actress_rating           0         0.000000\n",
            "Director_rating               0         0.000000\n",
            "Producer_rating               0         0.000000\n",
            "Critic_rating                 0         0.000000\n",
            "Trailer_views                 0         0.000000\n",
            "3D_available                  0         0.000000\n",
            "Time_taken                   12         2.371542\n",
            "Twitter_hastags               0         0.000000\n",
            "Genre                         0         0.000000\n",
            "Avg_age_actors                0         0.000000\n",
            "Num_multiplex                 0         0.000000\n",
            "Collection                    0         0.000000\n",
            "Start_Tech_Oscar              0         0.000000\n"
          ]
        }
      ]
    },
    {
      "cell_type": "code",
      "source": [
        "# Drop missing values berdasarkan baris\n",
        "data_dropped_rows = data.dropna()"
      ],
      "metadata": {
        "id": "I4XD-8YcS0tl"
      },
      "execution_count": 5,
      "outputs": []
    },
    {
      "cell_type": "code",
      "source": [
        "# Drop missing values berdasarkan kolom\n",
        "data_dropped_columns = data.dropna(axis=1)\n"
      ],
      "metadata": {
        "id": "YCXW2AO1S7Pq"
      },
      "execution_count": 6,
      "outputs": []
    },
    {
      "cell_type": "code",
      "source": [
        "\n",
        "# Imputasi untuk kolom numerik\n",
        "numerical_columns = data.select_dtypes(include=['float64', 'int64']).columns\n",
        "for col in numerical_columns:\n",
        "    # Imputasi dengan mean\n",
        "    data[col].fillna(data[col].mean(), inplace=True)\n",
        "    # Jika Anda ingin menggunakan median, uncomment baris berikut:\n",
        "    # data[col].fillna(data[col].median(), inplace=True)\n",
        "\n",
        "# Imputasi untuk kolom kategorikal\n",
        "categorical_columns = data.select_dtypes(include=['object']).columns\n",
        "for col in categorical_columns:\n",
        "    # Imputasi dengan modus\n",
        "    data[col].fillna(data[col].mode()[0], inplace=True)\n",
        "\n",
        "# Tampilkan data setelah imputasi\n",
        "print(data.head())"
      ],
      "metadata": {
        "colab": {
          "base_uri": "https://localhost:8080/"
        },
        "id": "BXNPX2t0UOIg",
        "outputId": "e600042c-6f85-44f2-dc36-50e73f7909cd"
      },
      "execution_count": 10,
      "outputs": [
        {
          "output_type": "stream",
          "name": "stdout",
          "text": [
            "  Marketing expense  Production expense  Multiplex coverage      Budget  \\\n",
            "0           201.264               59.62               462.0  36.524.125   \n",
            "1           205.462               69.14               531.0  35.668.655   \n",
            "2           205.458               69.14               531.0  39.912.675   \n",
            "3           206.474               59.36               542.0    38873.89   \n",
            "4            21.381               59.36               542.0  39.701.585   \n",
            "\n",
            "   Movie_length  Lead_ Actor_Rating  Lead_Actress_rating  Director_rating  \\\n",
            "0         138.7               7.825                8.095            7.910   \n",
            "1         152.4               7.505                7.650            7.440   \n",
            "2         134.6               7.485                7.570            7.495   \n",
            "3         119.3               6.895                7.035            6.920   \n",
            "4         127.7               6.920                7.070            6.815   \n",
            "\n",
            "   Producer_rating  Critic_rating  Trailer_views 3D_available  Time_taken  \\\n",
            "0            7.995           7.94         527367          YES      109.60   \n",
            "1            7.470           7.44         494055           NO      146.64   \n",
            "2            7.515           7.44         547051           NO      147.88   \n",
            "3            7.020           8.26         516279          YES      185.36   \n",
            "4            7.070           8.26         531448           NO      176.48   \n",
            "\n",
            "   Twitter_hastags     Genre  Avg_age_actors  Num_multiplex  Collection  \\\n",
            "0          223.840  Thriller              23            494       48000   \n",
            "1          243.456     Drama              42            462       43200   \n",
            "2         2022.400    Comedy              38            458       69400   \n",
            "3          225.344     Drama              45            472       66800   \n",
            "4          225.792     Drama              55            395       72400   \n",
            "\n",
            "   Start_Tech_Oscar  \n",
            "0                 1  \n",
            "1                 0  \n",
            "2                 1  \n",
            "3                 1  \n",
            "4                 1  \n"
          ]
        },
        {
          "output_type": "stream",
          "name": "stderr",
          "text": [
            "<ipython-input-10-b3ee9661cde9>:5: FutureWarning: A value is trying to be set on a copy of a DataFrame or Series through chained assignment using an inplace method.\n",
            "The behavior will change in pandas 3.0. This inplace method will never work because the intermediate object on which we are setting values always behaves as a copy.\n",
            "\n",
            "For example, when doing 'df[col].method(value, inplace=True)', try using 'df.method({col: value}, inplace=True)' or df[col] = df[col].method(value) instead, to perform the operation inplace on the original object.\n",
            "\n",
            "\n",
            "  data[col].fillna(data[col].mean(), inplace=True)\n",
            "<ipython-input-10-b3ee9661cde9>:13: FutureWarning: A value is trying to be set on a copy of a DataFrame or Series through chained assignment using an inplace method.\n",
            "The behavior will change in pandas 3.0. This inplace method will never work because the intermediate object on which we are setting values always behaves as a copy.\n",
            "\n",
            "For example, when doing 'df[col].method(value, inplace=True)', try using 'df.method({col: value}, inplace=True)' or df[col] = df[col].method(value) instead, to perform the operation inplace on the original object.\n",
            "\n",
            "\n",
            "  data[col].fillna(data[col].mode()[0], inplace=True)\n"
          ]
        }
      ]
    },
    {
      "cell_type": "code",
      "source": [
        "# Export data ke CSV\n",
        "data.to_csv('cleaned_data.csv', index=False)\n",
        "\n",
        "# Export data ke Excel\n",
        "data.to_excel('cleaned_data.xlsx', index=False)"
      ],
      "metadata": {
        "id": "uf9O-s02UOwc"
      },
      "execution_count": 14,
      "outputs": []
    }
  ]
}