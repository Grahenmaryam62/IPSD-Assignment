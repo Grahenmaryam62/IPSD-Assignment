{
  "nbformat": 4,
  "nbformat_minor": 0,
  "metadata": {
    "colab": {
      "provenance": []
    },
    "kernelspec": {
      "name": "python3",
      "display_name": "Python 3"
    },
    "language_info": {
      "name": "python"
    }
  },
  "cells": [
    {
      "cell_type": "code",
      "execution_count": 1,
      "metadata": {
        "colab": {
          "base_uri": "https://localhost:8080/"
        },
        "id": "nbnrE-YHgwU9",
        "outputId": "ae4d2b32-b9a3-4955-dc10-f29830b8ae38"
      },
      "outputs": [
        {
          "output_type": "stream",
          "name": "stdout",
          "text": [
            "2 \n",
            "3 5 \n",
            "7 11 13 \n",
            "17 19 23 29 \n"
          ]
        }
      ],
      "source": [
        "def is_prime(num):\n",
        "    \"\"\"Fungsi untuk memeriksa apakah suatu angka adalah bilangan prima.\"\"\"\n",
        "    if num < 2:\n",
        "        return False\n",
        "    for i in range(2, int(num**0.5) + 1):\n",
        "        if num % i == 0:\n",
        "            return False\n",
        "    return True\n",
        "\n",
        "def generate_prime_pattern(n):\n",
        "    \"\"\"Menghasilkan pola bilangan prima.\"\"\"\n",
        "    count = 0  # Jumlah bilangan prima yang telah ditemukan\n",
        "    num = 1    # Angka untuk diperiksa\n",
        "    primes = []  # Daftar bilangan prima yang ditemukan\n",
        "\n",
        "    while count < n * (n + 1) // 2:  # Total bilangan yang dibutuhkan\n",
        "        if is_prime(num):\n",
        "            primes.append(num)\n",
        "            count += 1\n",
        "        num += 1\n",
        "\n",
        "    index = 0\n",
        "    for i in range(1, n + 1):\n",
        "        for j in range(i):\n",
        "            print(primes[index], end=' ')\n",
        "            index += 1\n",
        "        print()  # Pindah ke baris berikutnya\n",
        "\n",
        "# Menentukan jumlah baris\n",
        "n = 4  # Misalnya kita ingin 4 baris\n",
        "generate_prime_pattern(n)"
      ]
    },
    {
      "cell_type": "code",
      "source": [
        "def combine_and_sort_odd_indices(list1, list2):\n",
        "    \"\"\"Menggabungkan elemen dengan indeks ganjil dari dua list dan mengurutkannya secara menurun.\"\"\"\n",
        "    # Mengambil elemen dengan indeks ganjil dari list1 dan list2\n",
        "    odd_index_elements = []\n",
        "\n",
        "    # Mengambil elemen dengan indeks ganjil dari list1\n",
        "    odd_index_elements.extend(list1[i] for i in range(1, len(list1), 2))\n",
        "\n",
        "    # Mengambil elemen dengan indeks ganjil dari list2\n",
        "    odd_index_elements.extend(list2[i] for i in range(1, len(list2), 2))\n",
        "\n",
        "    # Mengurutkan elemen secara menurun\n",
        "    sorted_elements = sorted(odd_index_elements, reverse=True)\n",
        "\n",
        "    return sorted_elements\n",
        "\n",
        "# Contoh penggunaan\n",
        "list1 = [10, 20, 30, 40, 50]\n",
        "list2 = [5, 15, 25, 35, 45]\n",
        "result = combine_and_sort_odd_indices(list1, list2)\n",
        "print(result)"
      ],
      "metadata": {
        "colab": {
          "base_uri": "https://localhost:8080/"
        },
        "id": "RfMswlpFhu9G",
        "outputId": "7a2ec41b-31e2-4506-90a6-a43c0ab22cd6"
      },
      "execution_count": 2,
      "outputs": [
        {
          "output_type": "stream",
          "name": "stdout",
          "text": [
            "[40, 35, 20, 15]\n"
          ]
        }
      ]
    },
    {
      "cell_type": "code",
      "source": [
        "def atm_simulation():\n",
        "    # Inisialisasi PIN dan saldo\n",
        "    correct_pin = \"1234\"\n",
        "    balance = 1000  # Saldo awal\n",
        "    attempts = 0  # Menghitung jumlah percobaan\n",
        "\n",
        "    # Meminta pengguna untuk memasukkan PIN\n",
        "    while attempts < 3:\n",
        "        pin = input(\"Masukkan PIN Anda: \")\n",
        "        if pin == correct_pin:\n",
        "            print(\"PIN benar. Selamat datang di ATM.\")\n",
        "            break\n",
        "        else:\n",
        "            attempts += 1\n",
        "            print(f\"PIN salah. Anda telah mencoba {attempts} kali.\")\n",
        "\n",
        "    # Jika setelah 3 kali percobaan PIN masih salah, keluar dari program\n",
        "    if attempts == 3:\n",
        "        print(\"Terlalu banyak percobaan. Kartu Anda diblokir.\")\n",
        "        return\n",
        "\n",
        "    # Meminta jumlah penarikan\n",
        "    while True:\n",
        "        try:\n",
        "            withdrawal_amount = float(input(\"Masukkan jumlah penarikan: \"))\n",
        "            if withdrawal_amount <= 0:\n",
        "                raise ValueError(\"Jumlah penarikan harus lebih dari nol.\")\n",
        "            if withdrawal_amount > balance:\n",
        "                print(\"Kesalahan: Saldo tidak cukup untuk penarikan ini.\")\n",
        "            else:\n",
        "                balance -= withdrawal_amount\n",
        "                print(f\"Penarikan berhasil. Saldo akhir Anda: {balance:.2f}\")\n",
        "                break\n",
        "        except ValueError as e:\n",
        "            print(f\"Kesalahan: {e}. Silakan coba lagi.\")\n",
        "\n",
        "# Menjalankan simulasi ATM\n",
        "atm_simulation()"
      ],
      "metadata": {
        "colab": {
          "base_uri": "https://localhost:8080/"
        },
        "id": "fWuPWfeiiacC",
        "outputId": "fed73659-fe56-4b13-a387-1fa7e720650e"
      },
      "execution_count": 3,
      "outputs": [
        {
          "output_type": "stream",
          "name": "stdout",
          "text": [
            "Masukkan PIN Anda: 23\n",
            "PIN salah. Anda telah mencoba 1 kali.\n",
            "Masukkan PIN Anda: 1234\n",
            "PIN benar. Selamat datang di ATM.\n",
            "Masukkan jumlah penarikan: 100000\n",
            "Kesalahan: Saldo tidak cukup untuk penarikan ini.\n",
            "Masukkan jumlah penarikan: 50\n",
            "Penarikan berhasil. Saldo akhir Anda: 950.00\n"
          ]
        }
      ]
    },
    {
      "cell_type": "code",
      "source": [
        "import pandas as pd\n",
        "\n",
        "df = pd.read_csv(r'/content/siswa_nilai (1).csv')\n",
        "print(df)\n",
        "\n"
      ],
      "metadata": {
        "colab": {
          "base_uri": "https://localhost:8080/"
        },
        "id": "_-wJwr8Nn1xt",
        "outputId": "8bc3ff7b-feab-4b71-98fb-be62a6961c00"
      },
      "execution_count": 7,
      "outputs": [
        {
          "output_type": "stream",
          "name": "stdout",
          "text": [
            "   Nama Siswa  Nilai\n",
            "0     Siswa_1     59\n",
            "1     Siswa_2     79\n",
            "2     Siswa_3     61\n",
            "3     Siswa_4     74\n",
            "4     Siswa_5     50\n",
            "..        ...    ...\n",
            "95   Siswa_96     59\n",
            "96   Siswa_97     57\n",
            "97   Siswa_98     70\n",
            "98   Siswa_99     66\n",
            "99  Siswa_100     78\n",
            "\n",
            "[100 rows x 2 columns]\n"
          ]
        }
      ]
    },
    {
      "cell_type": "code",
      "source": [
        "nilai = df['Nilai'].mean()\n",
        "highest = df['Nilai'].max()\n",
        "lowest = df['Nilai'].min()\n",
        "\n",
        "print(f\"mean score : {nilai}\",f\"\\nhighest score: {highest}\", f\"\\nlowest score : {lowest}\")"
      ],
      "metadata": {
        "colab": {
          "base_uri": "https://localhost:8080/"
        },
        "id": "R4ByR3d_ovhG",
        "outputId": "fb48fc18-59a6-43ad-9324-17cd4cf934ea"
      },
      "execution_count": 9,
      "outputs": [
        {
          "output_type": "stream",
          "name": "stdout",
          "text": [
            "mean score : 72.0 \n",
            "highest score: 100 \n",
            "lowest score : 50\n"
          ]
        }
      ]
    },
    {
      "cell_type": "code",
      "source": [
        "import random\n",
        "\n",
        "def guess_the_number():\n",
        "    # Komputer memilih angka secara acak antara 1 dan 100\n",
        "    number_to_guess = random.randint(1, 100)\n",
        "    attempts = 5  # Jumlah percobaan\n",
        "\n",
        "    print(\"Selamat datang di permainan Tebak Angka!\")\n",
        "    print(\"Saya telah memilih angka antara 1 hingga 100.\")\n",
        "    print(f\"Anda memiliki {attempts} percobaan untuk menebak angka tersebut.\")\n",
        "\n",
        "    for attempt in range(1, attempts + 1):\n",
        "        try:\n",
        "            guess = int(input(f\"Percobaan {attempt}: Masukkan tebakan Anda: \"))\n",
        "            if guess < 1 or guess > 100:\n",
        "                print(\"Tebakan harus antara 1 dan 100. Coba lagi.\")\n",
        "                continue\n",
        "\n",
        "            if guess < number_to_guess:\n",
        "                print(\"Tebakan Anda terlalu kecil.\")\n",
        "            elif guess > number_to_guess:\n",
        "                print(\"Tebakan Anda terlalu besar.\")\n",
        "            else:\n",
        "                print(f\"Selamat! Anda menebak angka {number_to_guess} dengan benar!\")\n",
        "                break  # Keluar dari loop jika tebakan benar\n",
        "        except ValueError:\n",
        "            print(\"Input tidak valid. Harap masukkan angka antara 1 dan 100.\")\n",
        "\n",
        "    else:\n",
        "        print(f\"Maaf, Anda telah kehabisan percobaan. Angka yang benar adalah {number_to_guess}.\")\n",
        "\n",
        "# Menjalankan permainan\n",
        "guess_the_number()"
      ],
      "metadata": {
        "colab": {
          "base_uri": "https://localhost:8080/"
        },
        "id": "xVpvn9Vhqy-s",
        "outputId": "23307fe6-d69b-4825-aec6-71e2b20935c9"
      },
      "execution_count": 10,
      "outputs": [
        {
          "output_type": "stream",
          "name": "stdout",
          "text": [
            "Selamat datang di permainan Tebak Angka!\n",
            "Saya telah memilih angka antara 1 hingga 100.\n",
            "Anda memiliki 5 percobaan untuk menebak angka tersebut.\n",
            "Percobaan 1: Masukkan tebakan Anda: 30\n",
            "Tebakan Anda terlalu kecil.\n",
            "Percobaan 2: Masukkan tebakan Anda: 160\n",
            "Tebakan harus antara 1 dan 100. Coba lagi.\n",
            "Percobaan 3: Masukkan tebakan Anda: 70\n",
            "Tebakan Anda terlalu besar.\n",
            "Percobaan 4: Masukkan tebakan Anda: 45\n",
            "Tebakan Anda terlalu kecil.\n",
            "Percobaan 5: Masukkan tebakan Anda: 50\n",
            "Tebakan Anda terlalu kecil.\n",
            "Maaf, Anda telah kehabisan percobaan. Angka yang benar adalah 64.\n"
          ]
        }
      ]
    },
    {
      "cell_type": "code",
      "source": [
        "def factorial(n):\n",
        "    \"\"\"Menghitung faktorial dari n secara rekursif.\"\"\"\n",
        "    if n == 0 or n == 1:  # Basis\n",
        "        return 1\n",
        "    else:\n",
        "        return n * factorial(n - 1)  # Rekursi\n",
        "\n",
        "def generate_factorial_sequence(n):\n",
        "    \"\"\"Menghasilkan urutan faktorial dari 1 hingga n.\"\"\"\n",
        "    result = []\n",
        "    for i in range(1, n + 1):\n",
        "        result.append(factorial(i))\n",
        "    return result\n",
        "\n",
        "# Contoh penggunaan\n",
        "n = 4\n",
        "factorial_sequence = generate_factorial_sequence(n)\n",
        "print(f\"Input: n = {n}\")\n",
        "print(\"Output:\", \", \".join(map(str, factorial_sequence)))"
      ],
      "metadata": {
        "colab": {
          "base_uri": "https://localhost:8080/"
        },
        "id": "tXxu7w0RrhSJ",
        "outputId": "44166ebf-bc62-4d29-ed80-52cbfc94d7d7"
      },
      "execution_count": 11,
      "outputs": [
        {
          "output_type": "stream",
          "name": "stdout",
          "text": [
            "Input: n = 4\n",
            "Output: 1, 2, 6, 24\n"
          ]
        }
      ]
    },
    {
      "cell_type": "code",
      "source": [
        "def minimum_coin_change(amount, coins):\n",
        "    \"\"\"Menghitung kombinasi minimum koin yang diperlukan untuk mencapai jumlah uang.\"\"\"\n",
        "    coins.sort(reverse=True)  # Mengurutkan koin dari yang terbesar\n",
        "    coin_count = {}  # Menyimpan jumlah koin yang digunakan\n",
        "\n",
        "    for coin in coins:\n",
        "        if amount <= 0:\n",
        "            break\n",
        "        if coin <= amount:\n",
        "            count = amount // coin  # Menghitung jumlah koin yang bisa digunakan\n",
        "            coin_count[coin] = count  # Menyimpan jumlah koin\n",
        "            amount -= coin * count  # Mengurangi jumlah uang yang tersisa\n",
        "\n",
        "    if amount > 0:\n",
        "        print(\"Tidak mungkin mencapai jumlah uang tersebut dengan koin yang tersedia.\")\n",
        "        return None\n",
        "\n",
        "    return coin_count\n",
        "\n",
        "# Contoh penggunaan\n",
        "def main():\n",
        "    amount = int(input(\"Masukkan jumlah uang: \"))\n",
        "    coins_input = input(\"Masukkan nilai koin yang tersedia (pisahkan dengan koma): \")\n",
        "    coins = list(map(int, coins_input.split(',')))\n",
        "\n",
        "    result = minimum_coin_change(amount, coins)\n",
        "\n",
        "    if result:\n",
        "        print(\"Kombinasi minimum koin yang diperlukan:\")\n",
        "        for coin, count in result.items():\n",
        "            print(f\"Koin {coin}: {count} buah\")\n",
        "\n",
        "# Menjalankan program utama\n",
        "main()\n"
      ],
      "metadata": {
        "colab": {
          "base_uri": "https://localhost:8080/"
        },
        "id": "-Gnn0_8OsBIb",
        "outputId": "24d1a0ee-a020-456b-b9cd-d55e6073cf54"
      },
      "execution_count": 12,
      "outputs": [
        {
          "output_type": "stream",
          "name": "stdout",
          "text": [
            "Masukkan jumlah uang: 1000\n",
            "Masukkan nilai koin yang tersedia (pisahkan dengan koma): 12,500\n",
            "Kombinasi minimum koin yang diperlukan:\n",
            "Koin 500: 2 buah\n"
          ]
        }
      ]
    },
    {
      "cell_type": "code",
      "source": [
        "def reverse_words(input_string):\n",
        "    \"\"\"Mengonversi string menjadi list berisi kata-kata terbalik.\"\"\"\n",
        "    # Memecah string menjadi kata-kata\n",
        "    words = input_string.split()\n",
        "    # Membalik setiap kata dan menyimpannya dalam list\n",
        "    reversed_words = [word[::-1] for word in words]\n",
        "    return reversed_words\n",
        "\n",
        "# Main program\n",
        "def main():\n",
        "    user_input = input(\"Masukkan sebuah kalimat: \")\n",
        "    result = reverse_words(user_input)\n",
        "    print(\"Output:\", result)\n",
        "\n",
        "# Menjalankan program utama\n",
        "main()"
      ],
      "metadata": {
        "colab": {
          "base_uri": "https://localhost:8080/"
        },
        "id": "lNfG75BbsMqt",
        "outputId": "3e89e32c-37e1-43c1-a5fa-ffdb5e240bc3"
      },
      "execution_count": 13,
      "outputs": [
        {
          "output_type": "stream",
          "name": "stdout",
          "text": [
            "Masukkan sebuah kalimat: Saya anak cantik\n",
            "Output: ['ayaS', 'kana', 'kitnac']\n"
          ]
        }
      ]
    },
    {
      "cell_type": "code",
      "source": [
        "class Buku:\n",
        "    def __init__(self, judul, penulis, tahun_terbit):\n",
        "        \"\"\"Inisialisasi atribut buku.\"\"\"\n",
        "        self.judul = judul\n",
        "        self.penulis = penulis\n",
        "        self.tahun_terbit = tahun_terbit\n",
        "\n",
        "    def tampilkan_informasi(self):\n",
        "        \"\"\"Menampilkan informasi buku.\"\"\"\n",
        "        return f\"Judul: {self.judul}, Penulis: {self.penulis}, Tahun Terbit: {self.tahun_terbit}\"\n",
        "\n",
        "    def hitung_usia(self, tahun_sekarang):\n",
        "        \"\"\"Menghitung usia buku berdasarkan tahun saat ini.\"\"\"\n",
        "        return tahun_sekarang - self.tahun_terbit\n",
        "\n",
        "\n",
        "# Contoh penggunaan class Buku\n",
        "def main():\n",
        "    # Membuat objek Buku\n",
        "    buku1 = Buku(\"Belajar Python\", \"Alice\", 2020)\n",
        "    buku2 = Buku(\"Pemrograman Berorientasi Objek\", \"Bob\", 2018)\n",
        "    buku3 = Buku(\"Data Science untuk Pemula\", \"Charlie\", 2021)\n",
        "\n",
        "    # Tahun saat ini\n",
        "    tahun_sekarang = 2024\n",
        "\n",
        "    # Menampilkan informasi dan usia masing-masing buku\n",
        "    for buku in [buku1, buku2, buku3]:\n",
        "        print(buku.tampilkan_informasi())\n",
        "        print(f\"Usia buku: {buku.hitung_usia(tahun_sekarang)} tahun\\n\")\n",
        "\n",
        "# Menjalankan program utama\n",
        "main()"
      ],
      "metadata": {
        "colab": {
          "base_uri": "https://localhost:8080/"
        },
        "id": "fbBgP5ZLstJb",
        "outputId": "235a7e80-eedd-4864-bdc1-8ddc35ebc9da"
      },
      "execution_count": 14,
      "outputs": [
        {
          "output_type": "stream",
          "name": "stdout",
          "text": [
            "Judul: Belajar Python, Penulis: Alice, Tahun Terbit: 2020\n",
            "Usia buku: 4 tahun\n",
            "\n",
            "Judul: Pemrograman Berorientasi Objek, Penulis: Bob, Tahun Terbit: 2018\n",
            "Usia buku: 6 tahun\n",
            "\n",
            "Judul: Data Science untuk Pemula, Penulis: Charlie, Tahun Terbit: 2021\n",
            "Usia buku: 3 tahun\n",
            "\n"
          ]
        }
      ]
    },
    {
      "cell_type": "code",
      "source": [
        "def binary_search(arr, target):\n",
        "    \"\"\"Melakukan pencarian biner untuk mencari target dalam array.\"\"\"\n",
        "    low = 0\n",
        "    high = len(arr) - 1\n",
        "\n",
        "    while low <= high:\n",
        "        mid = (low + high) // 2\n",
        "        if arr[mid] == target:\n",
        "            return mid  # Mengembalikan indeks jika ditemukan\n",
        "        elif arr[mid] < target:\n",
        "            low = mid + 1\n",
        "        else:\n",
        "            high = mid - 1\n",
        "    return -1  # Mengembalikan -1 jika tidak ditemukan\n",
        "\n",
        "def main():\n",
        "    # List hanya berisi angka genap\n",
        "    even_numbers = [0, 2, 4, 6, 8, 10, 12, 14, 16, 18, 20]\n",
        "\n",
        "    # Meminta input dari pengguna\n",
        "    target = int(input(\"Masukkan angka yang ingin dicari: \"))\n",
        "\n",
        "    # Memeriksa apakah target adalah angka genap\n",
        "    if target % 2 != 0:\n",
        "        print(\"Nilai tersebut tidak dapat ditemukan karena nilai harus genap.\")\n",
        "        return\n",
        "\n",
        "    # Melakukan pencarian biner\n",
        "    index = binary_search(even_numbers, target)\n",
        "\n",
        "    if index != -1:\n",
        "        print(f\"Angka {target} ditemukan pada indeks {index}.\")\n",
        "    else:\n",
        "        print(f\"Angka {target} tidak ditemukan dalam list.\")\n",
        "\n",
        "# Menjalankan program utama\n",
        "main()"
      ],
      "metadata": {
        "colab": {
          "base_uri": "https://localhost:8080/"
        },
        "id": "WAgOvAussvXP",
        "outputId": "78ce5703-14e6-42bc-cdc7-7d99a5b99014"
      },
      "execution_count": 15,
      "outputs": [
        {
          "output_type": "stream",
          "name": "stdout",
          "text": [
            "Masukkan angka yang ingin dicari: 12\n",
            "Angka 12 ditemukan pada indeks 6.\n"
          ]
        }
      ]
    }
  ]
}